{
 "cells": [
  {
   "cell_type": "markdown",
   "metadata": {},
   "source": [
    "# Problem ststement section:"
   ]
  },
  {
   "cell_type": "markdown",
   "metadata": {},
   "source": [
    "## Problem statement and background"
   ]
  },
  {
   "cell_type": "markdown",
   "metadata": {},
   "source": [
    "#### Company ABC decided to open specific kind of restaurants in Newyork ,so the company  called a data scientist team to find the most popular area in New York city,the data scientist as to find  the  major commercial, financial and cultural center so the company can open restaurants in nearest popular areas and gains more profit"
   ]
  },
  {
   "cell_type": "markdown",
   "metadata": {},
   "source": [
    "The data considered for this project is newyork data in json format,it has couple of features like type,id,geometry,co-ordinates,geometry_name,properties,borough etc... \n",
    "\n",
    " the model which i built gives the accuracy of above 90% \n",
    "\n"
   ]
  },
  {
   "cell_type": "markdown",
   "metadata": {},
   "source": [
    "This project is mainly designed for the people/company who wants to open an restaurant in newyork city area\n",
    "\n",
    "### Impacts:\n",
    "\n",
    "* The person or company can find best commercial and financial areas of newyork city to open different kind of restaurants\n",
    "* which type of restaurant the person or company as to open can be easily predictable interms increases the profit\n",
    "* time saving"
   ]
  },
  {
   "cell_type": "markdown",
   "metadata": {},
   "source": [
    "### Implications:\n",
    "\n",
    " Use of clustering which includes the n clusters of top venues of the data set,among that m venues are selected (m<=n).Which gives more value towards opening the restuarants in top most venues of the city Manhattan, similar  to that we can also implement this to other borough also so that company will get a chance to open many branches as possible in whole newyork city"
   ]
  }
 ],
 "metadata": {
  "kernelspec": {
   "display_name": "Python 3",
   "language": "python",
   "name": "python3"
  },
  "language_info": {
   "codemirror_mode": {
    "name": "ipython",
    "version": 3
   },
   "file_extension": ".py",
   "mimetype": "text/x-python",
   "name": "python",
   "nbconvert_exporter": "python",
   "pygments_lexer": "ipython3",
   "version": "3.7.3"
  }
 },
 "nbformat": 4,
 "nbformat_minor": 2
}
